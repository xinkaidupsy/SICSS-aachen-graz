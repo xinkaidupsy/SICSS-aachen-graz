{
 "cells": [
  {
   "cell_type": "code",
   "execution_count": 2,
   "id": "b8266166",
   "metadata": {},
   "outputs": [
    {
     "data": {
      "text/plain": [
       "['Untitled.ipynb', '.ipynb_checkpoints', 'data']"
      ]
     },
     "execution_count": 2,
     "metadata": {},
     "output_type": "execute_result"
    }
   ],
   "source": [
    "import pandas as pd\n",
    "import os\n",
    "os.listdir()"
   ]
  },
  {
   "cell_type": "code",
   "execution_count": 21,
   "id": "eb467d2d",
   "metadata": {
    "scrolled": true
   },
   "outputs": [
    {
     "data": {
      "text/html": [
       "<div>\n",
       "<style scoped>\n",
       "    .dataframe tbody tr th:only-of-type {\n",
       "        vertical-align: middle;\n",
       "    }\n",
       "\n",
       "    .dataframe tbody tr th {\n",
       "        vertical-align: top;\n",
       "    }\n",
       "\n",
       "    .dataframe thead th {\n",
       "        text-align: right;\n",
       "    }\n",
       "</style>\n",
       "<table border=\"1\" class=\"dataframe\">\n",
       "  <thead>\n",
       "    <tr style=\"text-align: right;\">\n",
       "      <th></th>\n",
       "      <th>created_at</th>\n",
       "      <th>author_id</th>\n",
       "      <th>source</th>\n",
       "      <th>possibly_sensitive</th>\n",
       "      <th>public_metrics</th>\n",
       "      <th>id</th>\n",
       "      <th>conversation_id</th>\n",
       "      <th>entities</th>\n",
       "      <th>text</th>\n",
       "      <th>attachments</th>\n",
       "      <th>lang</th>\n",
       "      <th>referenced_tweets</th>\n",
       "      <th>geo</th>\n",
       "      <th>in_reply_to_user_id</th>\n",
       "    </tr>\n",
       "  </thead>\n",
       "  <tbody>\n",
       "    <tr>\n",
       "      <th>0</th>\n",
       "      <td>2021-12-30 23:59:59+00:00</td>\n",
       "      <td>723528086650646528</td>\n",
       "      <td>HubSpot</td>\n",
       "      <td>False</td>\n",
       "      <td>{'retweet_count': 0, 'reply_count': 0, 'like_c...</td>\n",
       "      <td>1476704653328982016</td>\n",
       "      <td>1476704653328982016</td>\n",
       "      <td>{'annotations': [{'start': 171, 'end': 176, 'p...</td>\n",
       "      <td>The COVID-19 vaccine is available to children ...</td>\n",
       "      <td>{'media_keys': ['3_1476704652250992644']}</td>\n",
       "      <td>en</td>\n",
       "      <td>{}</td>\n",
       "      <td>{}</td>\n",
       "      <td>NaN</td>\n",
       "    </tr>\n",
       "    <tr>\n",
       "      <th>1</th>\n",
       "      <td>2021-12-30 23:59:59+00:00</td>\n",
       "      <td>1255848224574763008</td>\n",
       "      <td>Twitter</td>\n",
       "      <td>False</td>\n",
       "      <td>{'retweet_count': 616, 'reply_count': 0, 'like...</td>\n",
       "      <td>1476704653278646272</td>\n",
       "      <td>1476704653278646272</td>\n",
       "      <td>{'annotations': [{'start': 13, 'end': 22, 'pro...</td>\n",
       "      <td>RT @CShalby: California laws in 2022 include:\\...</td>\n",
       "      <td>{'media_keys': {}}</td>\n",
       "      <td>en</td>\n",
       "      <td>[{'type': 'retweeted', 'id': '1476642597795885...</td>\n",
       "      <td>{}</td>\n",
       "      <td>NaN</td>\n",
       "    </tr>\n",
       "    <tr>\n",
       "      <th>2</th>\n",
       "      <td>2021-12-30 23:59:59+00:00</td>\n",
       "      <td>945365924470755328</td>\n",
       "      <td>Twitter for Android</td>\n",
       "      <td>False</td>\n",
       "      <td>{'retweet_count': 3755, 'reply_count': 0, 'lik...</td>\n",
       "      <td>1476704653144465408</td>\n",
       "      <td>1476704653144465408</td>\n",
       "      <td>{'annotations': [{'start': 47, 'end': 53, 'pro...</td>\n",
       "      <td>RT @NaheedD: Let's get one thing straight: The...</td>\n",
       "      <td>{'media_keys': {}}</td>\n",
       "      <td>en</td>\n",
       "      <td>[{'type': 'retweeted', 'id': '1476653121166266...</td>\n",
       "      <td>{}</td>\n",
       "      <td>NaN</td>\n",
       "    </tr>\n",
       "    <tr>\n",
       "      <th>3</th>\n",
       "      <td>2021-12-30 23:59:59+00:00</td>\n",
       "      <td>791248485811118080</td>\n",
       "      <td>Twitter for Android</td>\n",
       "      <td>False</td>\n",
       "      <td>{'retweet_count': 317, 'reply_count': 0, 'like...</td>\n",
       "      <td>1476704652020404224</td>\n",
       "      <td>1476704652020404224</td>\n",
       "      <td>{'annotations': [{'start': 19, 'end': 28, 'pro...</td>\n",
       "      <td>RT @thedailybeast: Alex Jones threatens to “di...</td>\n",
       "      <td>{'media_keys': {}}</td>\n",
       "      <td>en</td>\n",
       "      <td>[{'type': 'retweeted', 'id': '1476410257488461...</td>\n",
       "      <td>{}</td>\n",
       "      <td>NaN</td>\n",
       "    </tr>\n",
       "    <tr>\n",
       "      <th>4</th>\n",
       "      <td>2021-12-30 23:59:59+00:00</td>\n",
       "      <td>83852643</td>\n",
       "      <td>Twitter for iPhone</td>\n",
       "      <td>False</td>\n",
       "      <td>{'retweet_count': 4, 'reply_count': 0, 'like_c...</td>\n",
       "      <td>1476704650111995904</td>\n",
       "      <td>1476704650111995904</td>\n",
       "      <td>{'annotations': [{'start': 65, 'end': 75, 'pro...</td>\n",
       "      <td>RT @KenKalthoffNBC5: There are many impacts on...</td>\n",
       "      <td>{'media_keys': {}}</td>\n",
       "      <td>en</td>\n",
       "      <td>[{'type': 'retweeted', 'id': '1476671059764002...</td>\n",
       "      <td>{}</td>\n",
       "      <td>NaN</td>\n",
       "    </tr>\n",
       "  </tbody>\n",
       "</table>\n",
       "</div>"
      ],
      "text/plain": [
       "                 created_at            author_id               source  \\\n",
       "0 2021-12-30 23:59:59+00:00   723528086650646528              HubSpot   \n",
       "1 2021-12-30 23:59:59+00:00  1255848224574763008              Twitter   \n",
       "2 2021-12-30 23:59:59+00:00   945365924470755328  Twitter for Android   \n",
       "3 2021-12-30 23:59:59+00:00   791248485811118080  Twitter for Android   \n",
       "4 2021-12-30 23:59:59+00:00             83852643   Twitter for iPhone   \n",
       "\n",
       "   possibly_sensitive                                     public_metrics  \\\n",
       "0               False  {'retweet_count': 0, 'reply_count': 0, 'like_c...   \n",
       "1               False  {'retweet_count': 616, 'reply_count': 0, 'like...   \n",
       "2               False  {'retweet_count': 3755, 'reply_count': 0, 'lik...   \n",
       "3               False  {'retweet_count': 317, 'reply_count': 0, 'like...   \n",
       "4               False  {'retweet_count': 4, 'reply_count': 0, 'like_c...   \n",
       "\n",
       "                    id      conversation_id  \\\n",
       "0  1476704653328982016  1476704653328982016   \n",
       "1  1476704653278646272  1476704653278646272   \n",
       "2  1476704653144465408  1476704653144465408   \n",
       "3  1476704652020404224  1476704652020404224   \n",
       "4  1476704650111995904  1476704650111995904   \n",
       "\n",
       "                                            entities  \\\n",
       "0  {'annotations': [{'start': 171, 'end': 176, 'p...   \n",
       "1  {'annotations': [{'start': 13, 'end': 22, 'pro...   \n",
       "2  {'annotations': [{'start': 47, 'end': 53, 'pro...   \n",
       "3  {'annotations': [{'start': 19, 'end': 28, 'pro...   \n",
       "4  {'annotations': [{'start': 65, 'end': 75, 'pro...   \n",
       "\n",
       "                                                text  \\\n",
       "0  The COVID-19 vaccine is available to children ...   \n",
       "1  RT @CShalby: California laws in 2022 include:\\...   \n",
       "2  RT @NaheedD: Let's get one thing straight: The...   \n",
       "3  RT @thedailybeast: Alex Jones threatens to “di...   \n",
       "4  RT @KenKalthoffNBC5: There are many impacts on...   \n",
       "\n",
       "                                 attachments lang  \\\n",
       "0  {'media_keys': ['3_1476704652250992644']}   en   \n",
       "1                         {'media_keys': {}}   en   \n",
       "2                         {'media_keys': {}}   en   \n",
       "3                         {'media_keys': {}}   en   \n",
       "4                         {'media_keys': {}}   en   \n",
       "\n",
       "                                   referenced_tweets geo  in_reply_to_user_id  \n",
       "0                                                 {}  {}                  NaN  \n",
       "1  [{'type': 'retweeted', 'id': '1476642597795885...  {}                  NaN  \n",
       "2  [{'type': 'retweeted', 'id': '1476653121166266...  {}                  NaN  \n",
       "3  [{'type': 'retweeted', 'id': '1476410257488461...  {}                  NaN  \n",
       "4  [{'type': 'retweeted', 'id': '1476671059764002...  {}                  NaN  "
      ]
     },
     "execution_count": 21,
     "metadata": {},
     "output_type": "execute_result"
    }
   ],
   "source": [
    "tweet = pd.read_json('data/data_1476704361137029127.json')\n",
    "tweet.head(5)"
   ]
  },
  {
   "cell_type": "code",
   "execution_count": 41,
   "id": "20b9370c",
   "metadata": {},
   "outputs": [
    {
     "data": {
      "text/plain": [
       "477"
      ]
     },
     "execution_count": 41,
     "metadata": {},
     "output_type": "execute_result"
    }
   ],
   "source": [
    "tweet[tweet['text'].str.contains(\"RT\")]\n",
    "len(tweet)"
   ]
  },
  {
   "cell_type": "code",
   "execution_count": 37,
   "id": "31f42dda",
   "metadata": {},
   "outputs": [],
   "source": [
    "users = pd.read_json('data/users_1476704361137029127.json', lines = True)"
   ]
  },
  {
   "cell_type": "code",
   "execution_count": 38,
   "id": "acc113a3",
   "metadata": {},
   "outputs": [
    {
     "data": {
      "text/html": [
       "<div>\n",
       "<style scoped>\n",
       "    .dataframe tbody tr th:only-of-type {\n",
       "        vertical-align: middle;\n",
       "    }\n",
       "\n",
       "    .dataframe tbody tr th {\n",
       "        vertical-align: top;\n",
       "    }\n",
       "\n",
       "    .dataframe thead th {\n",
       "        text-align: right;\n",
       "    }\n",
       "</style>\n",
       "<table border=\"1\" class=\"dataframe\">\n",
       "  <thead>\n",
       "    <tr style=\"text-align: right;\">\n",
       "      <th></th>\n",
       "      <th>users</th>\n",
       "      <th>tweets</th>\n",
       "      <th>places</th>\n",
       "    </tr>\n",
       "  </thead>\n",
       "  <tbody>\n",
       "    <tr>\n",
       "      <th>0</th>\n",
       "      <td>[{'entities': {'url': {'urls': [{'start': 0, '...</td>\n",
       "      <td>[{'created_at': '2021-12-30T19:53:24.000Z', 'a...</td>\n",
       "      <td>[{'country': 'Vereinigte Staaten', 'full_name'...</td>\n",
       "    </tr>\n",
       "  </tbody>\n",
       "</table>\n",
       "</div>"
      ],
      "text/plain": [
       "                                               users  \\\n",
       "0  [{'entities': {'url': {'urls': [{'start': 0, '...   \n",
       "\n",
       "                                              tweets  \\\n",
       "0  [{'created_at': '2021-12-30T19:53:24.000Z', 'a...   \n",
       "\n",
       "                                              places  \n",
       "0  [{'country': 'Vereinigte Staaten', 'full_name'...  "
      ]
     },
     "execution_count": 38,
     "metadata": {},
     "output_type": "execute_result"
    }
   ],
   "source": [
    "users"
   ]
  }
 ],
 "metadata": {
  "kernelspec": {
   "display_name": "Python 3",
   "language": "python",
   "name": "python3"
  },
  "language_info": {
   "codemirror_mode": {
    "name": "ipython",
    "version": 3
   },
   "file_extension": ".py",
   "mimetype": "text/x-python",
   "name": "python",
   "nbconvert_exporter": "python",
   "pygments_lexer": "ipython3",
   "version": "3.8.8"
  }
 },
 "nbformat": 4,
 "nbformat_minor": 5
}
